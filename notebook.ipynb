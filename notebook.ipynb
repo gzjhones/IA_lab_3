{
 "cells": [
  {
   "cell_type": "code",
   "execution_count": null,
   "metadata": {
    "vscode": {
     "languageId": "plaintext"
    }
   },
   "outputs": [],
   "source": [
    "# Instalar las dependencias necesarias\n",
    "!pip install gradio scikit-learn joblib\n",
    "\n",
    "# ========== Entrenamiento del Modelo ==========\n",
    "import numpy as np\n",
    "from sklearn.feature_extraction.text import CountVectorizer\n",
    "from sklearn.linear_model import Perceptron\n",
    "import joblib\n",
    "\n",
    "# Datos de ejemplo (correos spam y no spam)\n",
    "emails = [\n",
    "    \"¡Enhorabuena, has ganado un iPhone gratis!\",\n",
    "    \"Hola John, ¿cómo estás?\",\n",
    "    \"¡Reclama ahora tus vacaciones gratis!\",\n",
    "    \"Recordatorio de reunión para la próxima semana\",\n",
    "    \"Ha sido seleccionado para una oferta especial\",\n",
    "    \"¿Comemos mañana?\",\n",
    "    \"Oferta por tiempo limitado, haga clic aquí para reclamar\",\n",
    "    \"Su extracto bancario está listo\",\n",
    "]\n",
    "labels = [1, 0, 1, 0, 1, 0, 1, 0]  # 1 = spam, 0 = not spam\n",
    "\n",
    "# Vectorización de texto\n",
    "vectorizer = CountVectorizer()\n",
    "X = vectorizer.fit_transform(emails)\n",
    "\n",
    "# Entrenamiento del modelo Perceptron\n",
    "model = Perceptron()\n",
    "model.fit(X, labels)\n",
    "\n",
    "# Guardar el modelo y el vectorizador para reutilización\n",
    "joblib.dump(model, 'spam_model.pkl')\n",
    "joblib.dump(vectorizer, 'vectorizer.pkl')\n",
    "\n",
    "print(\"Modelo y vectorizador guardados!\")\n",
    "\n",
    "# ========== Definición de la Aplicación con Gradio ==========\n",
    "import gradio as gr\n",
    "\n",
    "# Cargar el modelo entrenado y el vectorizador\n",
    "model = joblib.load('spam_model.pkl')\n",
    "vectorizer = joblib.load('vectorizer.pkl')\n",
    "\n",
    "# Función para detectar si un correo es spam o no\n",
    "def spam_detector(email_text):\n",
    "    # Preprocesar el texto del correo\n",
    "    email_vector = vectorizer.transform([email_text])\n",
    "    \n",
    "    # Hacer la predicción\n",
    "    prediction = model.predict(email_vector)\n",
    "    \n",
    "    # Devolver el resultado\n",
    "    return \"spam\" if prediction[0] == 1 else \"not spam\"\n",
    "\n",
    "# Crear la interfaz de usuario con Gradio\n",
    "interface = gr.Interface(\n",
    "    fn=spam_detector,\n",
    "    inputs=gr.Textbox(lines=10, placeholder=\"Paste your email content here...\"),\n",
    "    outputs=\"text\",\n",
    "    title=\"Spam Detector\",\n",
    "    description=\"Enter the text of an email to check if it is spam or not.\"\n",
    ")\n",
    "\n",
    "# Lanzar la aplicación\n",
    "interface.launch()\n"
   ]
  }
 ],
 "metadata": {
  "language_info": {
   "name": "python"
  }
 },
 "nbformat": 4,
 "nbformat_minor": 2
}
